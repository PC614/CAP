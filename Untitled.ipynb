{
 "cells": [
  {
   "cell_type": "code",
   "execution_count": 1,
   "id": "df2c0484-9d62-4632-989e-c3ae84a28072",
   "metadata": {},
   "outputs": [],
   "source": [
    "import torch\n",
    "import torch.nn as nn\n",
    "import torch.nn.functional as F\n",
    "import torch.optim as optim\n",
    "import numpy as np\n",
    "import matplotlib.pyplot as plt\n",
    "%matplotlib inline\n",
    "\n",
    "import torchvision\n",
    "from torchvision import transforms\n",
    "import os"
   ]
  },
  {
   "cell_type": "code",
   "execution_count": 22,
   "id": "db3f0dce-6d40-425c-ba2a-d35fb541dbd7",
   "metadata": {},
   "outputs": [
    {
     "data": {
      "text/plain": [
       "['AlexNet',\n",
       " 'DenseNet',\n",
       " 'GoogLeNet',\n",
       " 'GoogLeNetOutputs',\n",
       " 'Inception3',\n",
       " 'InceptionOutputs',\n",
       " 'MNASNet',\n",
       " 'MobileNetV2',\n",
       " 'ResNet',\n",
       " 'ShuffleNetV2',\n",
       " 'SqueezeNet',\n",
       " 'VGG',\n",
       " '_GoogLeNetOutputs',\n",
       " '_InceptionOutputs',\n",
       " '__builtins__',\n",
       " '__cached__',\n",
       " '__doc__',\n",
       " '__file__',\n",
       " '__loader__',\n",
       " '__name__',\n",
       " '__package__',\n",
       " '__path__',\n",
       " '__spec__',\n",
       " '_utils',\n",
       " 'alexnet',\n",
       " 'densenet',\n",
       " 'densenet121',\n",
       " 'densenet161',\n",
       " 'densenet169',\n",
       " 'densenet201',\n",
       " 'detection',\n",
       " 'googlenet',\n",
       " 'inception',\n",
       " 'inception_v3',\n",
       " 'mnasnet',\n",
       " 'mnasnet0_5',\n",
       " 'mnasnet0_75',\n",
       " 'mnasnet1_0',\n",
       " 'mnasnet1_3',\n",
       " 'mobilenet',\n",
       " 'mobilenet_v2',\n",
       " 'quantization',\n",
       " 'resnet',\n",
       " 'resnet101',\n",
       " 'resnet152',\n",
       " 'resnet18',\n",
       " 'resnet34',\n",
       " 'resnet50',\n",
       " 'resnext101_32x8d',\n",
       " 'resnext50_32x4d',\n",
       " 'segmentation',\n",
       " 'shufflenet_v2_x0_5',\n",
       " 'shufflenet_v2_x1_0',\n",
       " 'shufflenet_v2_x1_5',\n",
       " 'shufflenet_v2_x2_0',\n",
       " 'shufflenetv2',\n",
       " 'squeezenet',\n",
       " 'squeezenet1_0',\n",
       " 'squeezenet1_1',\n",
       " 'utils',\n",
       " 'vgg',\n",
       " 'vgg11',\n",
       " 'vgg11_bn',\n",
       " 'vgg13',\n",
       " 'vgg13_bn',\n",
       " 'vgg16',\n",
       " 'vgg16_bn',\n",
       " 'vgg19',\n",
       " 'vgg19_bn',\n",
       " 'video',\n",
       " 'wide_resnet101_2',\n",
       " 'wide_resnet50_2']"
      ]
     },
     "execution_count": 22,
     "metadata": {},
     "output_type": "execute_result"
    }
   ],
   "source": [
    "dir(torchvision.models)"
   ]
  },
  {
   "cell_type": "code",
   "execution_count": null,
   "id": "c2e8725f-ac5d-4803-b518-d51a70db866d",
   "metadata": {},
   "outputs": [],
   "source": [
    "inception_v3"
   ]
  },
  {
   "cell_type": "code",
   "execution_count": 2,
   "id": "42c1a742-b5b0-4768-9cf2-31e28d061e29",
   "metadata": {},
   "outputs": [],
   "source": [
    "model = torchvision.models.inception_v3(pretrained=True)"
   ]
  },
  {
   "cell_type": "code",
   "execution_count": 9,
   "id": "eb5538e9-07d8-4fe1-a50f-a7b84551ca09",
   "metadata": {},
   "outputs": [],
   "source": [
    "#print(model)  #2048   1000"
   ]
  },
  {
   "cell_type": "code",
   "execution_count": 3,
   "id": "30113204-bf80-45a8-9fec-4668bd8d5dea",
   "metadata": {},
   "outputs": [],
   "source": [
    "model = torchvision.models.resnet50(pretrained=True)"
   ]
  },
  {
   "cell_type": "code",
   "execution_count": 29,
   "id": "1e2d5190-f562-4ea8-b0b7-795b3d8c400e",
   "metadata": {},
   "outputs": [],
   "source": [
    "import timm"
   ]
  },
  {
   "cell_type": "code",
   "execution_count": 4,
   "id": "5422a12d-4290-43cc-8889-12abcb726fb9",
   "metadata": {},
   "outputs": [],
   "source": [
    "#timm中有多少个预训练模型\n",
    "model_pretrain_list = timm.list_models(pretrained=True)\n",
    "#print(len(model_pretrain_list), model_pretrain_list[:])\n"
   ]
  },
  {
   "cell_type": "code",
   "execution_count": null,
   "id": "4318e48f-79f2-4502-beb0-d8521831e8e0",
   "metadata": {},
   "outputs": [],
   "source": [
    "vit_base_patch16_224"
   ]
  },
  {
   "cell_type": "code",
   "execution_count": null,
   "id": "df980f09-aebf-4f32-8df4-225cdc4be723",
   "metadata": {},
   "outputs": [],
   "source": [
    "'swin_tiny_patch4_window7_224'    'swin_tiny_patch4_window7_224'"
   ]
  },
  {
   "cell_type": "code",
   "execution_count": null,
   "id": "87fa6473-e8e6-4781-97b1-1b23b6095d97",
   "metadata": {},
   "outputs": [],
   "source": [
    "vit_small_patch16_224"
   ]
  },
  {
   "cell_type": "code",
   "execution_count": null,
   "id": "01f3e035-c209-4cf3-9920-1c08f5c8775c",
   "metadata": {},
   "outputs": [],
   "source": []
  },
  {
   "cell_type": "code",
   "execution_count": null,
   "id": "828da4ef-0e98-495c-b75c-c588010b7c08",
   "metadata": {},
   "outputs": [],
   "source": [
    "def seed_torch(seed):\n",
    "    \"\"\"Set a random seed to ensure that the results are reproducible\"\"\"  \n",
    "    random.seed(seed)\n",
    "    os.environ['PYTHONHASHSEED'] = str(seed)\n",
    "    np.random.seed(seed)\n",
    "    torch.manual_seed(seed)\n",
    "    torch.cuda.manual_seed(seed)\n",
    "    torch.cuda.manual_seed_all(seed)\n",
    "    torch.backends.cudnn.deterministic = True\n",
    "    torch.backends.cudnn.benchmark = False\n",
    "    torch.backends.cudnn.enabled = False"
   ]
  },
  {
   "cell_type": "code",
   "execution_count": null,
   "id": "3ecb4a0f-f9fa-4f2e-8d7b-3ab6a4137e87",
   "metadata": {},
   "outputs": [],
   "source": [
    "def main():\n",
    "    transforms = T.Compose([T.ToTensor()])\n",
    "\n",
    "    # Load inputs\n",
    "    inputs = ImageNet(opt.input_dir, opt.input_csv, transforms)\n",
    "    data_loader = DataLoader(inputs, batch_size=opt.batch_size, shuffle=False, pin_memory=True, num_workers=8)\n",
    "    input_num = len(inputs)\n",
    "\n",
    "    # Create models\n",
    "    models = get_models(list_nets, opt.model_dir)\n",
    "\n",
    "    # Initialization parameters\n",
    "    correct_num = {}\n",
    "    logits = {}\n",
    "    for net in list_nets:\n",
    "        correct_num[net] = 0\n",
    "\n",
    "    # Start iteration\n",
    "    for images, filename, label in tqdm(data_loader):\n",
    "        label = label.cuda()\n",
    "        images = images.cuda()\n",
    "\n",
    "        # Start Attack\n",
    "        adv_img = attack(models[opt.white_model], images, label)\n",
    "\n",
    "        # Save adversarial examples\n",
    "        save_img(adv_img, filename, opt.output_dir)\n",
    "\n",
    "        # Prediction\n",
    "        with torch.no_grad():\n",
    "            for net in list_nets:\n",
    "                if \"inc\" in net:\n",
    "                    logits[net] = models[net](adv_img)[0]\n",
    "                else:\n",
    "                    logits[net] = models[net](adv_img)\n",
    "                correct_num[net] += (torch.argmax(logits[net], axis=1) != label).detach().sum().cpu()\n",
    "\n",
    "    # Print attack success rate\n",
    "    for net in list_nets:\n",
    "        print('{} attack success rate: {:.2%}'.format(net, correct_num[net]/input_num))\n",
    "\n",
    "\n",
    "if __name__ == '__main__':\n",
    "    seed_torch(0)\n",
    "    main()"
   ]
  },
  {
   "cell_type": "code",
   "execution_count": null,
   "id": "209d4aba-219f-49f4-9846-50c01b1e64c3",
   "metadata": {},
   "outputs": [],
   "source": [
    "#在  main() 之前加上随机种子就行       以后我也要正规一点  前面是函数  然后mian"
   ]
  },
  {
   "cell_type": "code",
   "execution_count": null,
   "id": "6d1cb8a1-aa1d-4e85-8309-9b55d221b2ce",
   "metadata": {},
   "outputs": [],
   "source": [
    "# 一定参考他的写作风格  https://github.com/ylhz/tf_to_pytorch_model/blob/main/torch_attack.py   如何get model的"
   ]
  },
  {
   "cell_type": "code",
   "execution_count": null,
   "id": "fda56b56-08f3-411e-bb1a-ddd45f5c0482",
   "metadata": {},
   "outputs": [],
   "source": []
  },
  {
   "cell_type": "code",
   "execution_count": null,
   "id": "12e42330-059d-4ad3-89b7-aef4d59c8fcd",
   "metadata": {},
   "outputs": [],
   "source": [
    "# timm的版本一定不要高  否则会报错  一般timm==0.6.13"
   ]
  },
  {
   "cell_type": "code",
   "execution_count": 9,
   "id": "61076752-f636-45a2-805e-eee395a090a8",
   "metadata": {},
   "outputs": [],
   "source": [
    "model1 = timm.create_model('convnext_base', pretrained=True)"
   ]
  },
  {
   "cell_type": "code",
   "execution_count": 37,
   "id": "3d8139eb-9522-468b-8026-e6c57f8a7697",
   "metadata": {},
   "outputs": [],
   "source": [
    "model2 = timm.create_model('vit_base_patch16_224', pretrained=True)"
   ]
  },
  {
   "cell_type": "code",
   "execution_count": 48,
   "id": "bc795f09-0f09-4eb3-9d8a-0f45496e5429",
   "metadata": {},
   "outputs": [],
   "source": [
    "model4 = timm.create_model('vit_tiny_patch16_224', pretrained=True)"
   ]
  },
  {
   "cell_type": "code",
   "execution_count": 30,
   "id": "1e5b421b-9b19-442e-9dd4-61a08f8d40bf",
   "metadata": {},
   "outputs": [],
   "source": [
    "model2 = timm.create_model('swin_tiny_patch4_window7_224', pretrained=True)"
   ]
  },
  {
   "cell_type": "code",
   "execution_count": 38,
   "id": "571fedf4-1cc4-4f4b-b06a-2a541c780898",
   "metadata": {},
   "outputs": [],
   "source": [
    "mean1 = model2.default_cfg['mean']"
   ]
  },
  {
   "cell_type": "code",
   "execution_count": 39,
   "id": "65e5e435-41af-4b2c-a349-64a45ff1e492",
   "metadata": {},
   "outputs": [
    {
     "data": {
      "text/plain": [
       "(0.5, 0.5, 0.5)"
      ]
     },
     "execution_count": 39,
     "metadata": {},
     "output_type": "execute_result"
    }
   ],
   "source": [
    "mean1"
   ]
  },
  {
   "cell_type": "code",
   "execution_count": 40,
   "id": "fefb916a-167b-42d3-b3d5-847e10048c05",
   "metadata": {},
   "outputs": [],
   "source": [
    "std = model2.default_cfg['std']"
   ]
  },
  {
   "cell_type": "code",
   "execution_count": 45,
   "id": "e7fef84b-ac48-4411-808c-2ea7fca6645e",
   "metadata": {},
   "outputs": [
    {
     "data": {
      "text/plain": [
       "[0.5, 0.5, 0.5]"
      ]
     },
     "execution_count": 45,
     "metadata": {},
     "output_type": "execute_result"
    }
   ],
   "source": [
    "list(std)"
   ]
  },
  {
   "cell_type": "code",
   "execution_count": 46,
   "id": "69c77f85-2134-4bac-b0a3-f5821f8d7341",
   "metadata": {},
   "outputs": [
    {
     "data": {
      "text/plain": [
       "[0.5, 0.5, 0.5]"
      ]
     },
     "execution_count": 46,
     "metadata": {},
     "output_type": "execute_result"
    }
   ],
   "source": [
    "list(mean1)"
   ]
  },
  {
   "cell_type": "code",
   "execution_count": null,
   "id": "fd7fe148-e217-4eba-b8ee-24f63232316b",
   "metadata": {},
   "outputs": [],
   "source": []
  },
  {
   "cell_type": "code",
   "execution_count": 4,
   "id": "1b7c90a9-0741-41bf-a7d0-72ea3267bf3a",
   "metadata": {},
   "outputs": [],
   "source": [
    "a= [\"aa\",\"ss\",\"mm\"]"
   ]
  },
  {
   "cell_type": "code",
   "execution_count": 5,
   "id": "32c57ae2-1963-4c6a-894a-3adea7e49343",
   "metadata": {},
   "outputs": [
    {
     "data": {
      "text/plain": [
       "True"
      ]
     },
     "execution_count": 5,
     "metadata": {},
     "output_type": "execute_result"
    }
   ],
   "source": [
    "\"aa\" in a"
   ]
  },
  {
   "cell_type": "code",
   "execution_count": 6,
   "id": "02ce7684-80d1-4799-861c-35cca32f081d",
   "metadata": {},
   "outputs": [],
   "source": [
    "m = \"aa\" "
   ]
  },
  {
   "cell_type": "code",
   "execution_count": 7,
   "id": "5db3ddae-37a0-4159-b149-c81dc7c15cb7",
   "metadata": {},
   "outputs": [
    {
     "name": "stdout",
     "output_type": "stream",
     "text": [
      "123\n"
     ]
    }
   ],
   "source": [
    "if m == \"aa\" or \"mm\":\n",
    "    print(123)"
   ]
  },
  {
   "cell_type": "code",
   "execution_count": 8,
   "id": "17459651-33bd-4cc1-8fa9-9507e84f4d8b",
   "metadata": {},
   "outputs": [],
   "source": [
    "def ll(a,b):\n",
    "    sum1 = a + b\n",
    "    "
   ]
  },
  {
   "cell_type": "code",
   "execution_count": 9,
   "id": "2d8bac8b-23de-426b-81f6-f5eac08de106",
   "metadata": {},
   "outputs": [],
   "source": [
    "ll(1,2)"
   ]
  },
  {
   "cell_type": "code",
   "execution_count": null,
   "id": "d0c88c18-fe7d-4e9b-8b4f-fad6386db31c",
   "metadata": {},
   "outputs": [],
   "source": [
    "\n",
    "result = './model/MSMT17_V1/%s/black_%s_result.txt'%(opt.black_name, opt.name)\n",
    "\n",
    "    \n",
    "os.system('python evaluate_gpu.py --attack %s --name %s --black_name %s| tee -a %s'%(opt.attack, opt.name,opt.black_name,result))#自己加的"
   ]
  },
  {
   "cell_type": "code",
   "execution_count": null,
   "id": "1ba99356-4232-40fb-83bb-a51e604dbf95",
   "metadata": {},
   "outputs": [],
   "source": []
  },
  {
   "cell_type": "code",
   "execution_count": 1,
   "id": "8e4afed2-9d7e-470c-b1fa-13f262c9653c",
   "metadata": {},
   "outputs": [],
   "source": [
    "model_names = ['inception_v3',\"resnet50\",'densenet121','swin-t','vit']"
   ]
  },
  {
   "cell_type": "code",
   "execution_count": 3,
   "id": "c2210652-dd00-42a0-bf50-3d2d65ad2fd4",
   "metadata": {},
   "outputs": [
    {
     "data": {
      "text/plain": [
       "5"
      ]
     },
     "execution_count": 3,
     "metadata": {},
     "output_type": "execute_result"
    }
   ],
   "source": [
    "len(model_names)"
   ]
  },
  {
   "cell_type": "code",
   "execution_count": null,
   "id": "10384960-12ca-49c2-b967-0b9e9ff9b9b9",
   "metadata": {},
   "outputs": [],
   "source": [
    "Ens_m = ['resnet50','densenet121','vit']"
   ]
  },
  {
   "cell_type": "code",
   "execution_count": null,
   "id": "1c56b666-cf42-4aba-b31a-e33cef39cebc",
   "metadata": {},
   "outputs": [],
   "source": [
    "model = EnsembleModel([get_model(name) for name in Ens_m])"
   ]
  },
  {
   "cell_type": "code",
   "execution_count": null,
   "id": "95bd7798-506f-4f56-877b-8f39c6604d33",
   "metadata": {},
   "outputs": [],
   "source": []
  },
  {
   "cell_type": "code",
   "execution_count": 4,
   "id": "cf6f4d84-7f0a-4a89-a837-d56c8216fd8c",
   "metadata": {},
   "outputs": [],
   "source": [
    "result = './output/%s_result.txt'%(\"ddd\")"
   ]
  },
  {
   "cell_type": "code",
   "execution_count": 5,
   "id": "1a508ac4-e3f9-488c-9c2c-3ba5e130ab7b",
   "metadata": {},
   "outputs": [
    {
     "data": {
      "text/plain": [
       "'./output/ddd_result.txt'"
      ]
     },
     "execution_count": 5,
     "metadata": {},
     "output_type": "execute_result"
    }
   ],
   "source": [
    "result"
   ]
  },
  {
   "cell_type": "code",
   "execution_count": 2,
   "id": "4c47d623-2be3-40a0-b2d7-a31f06addef6",
   "metadata": {},
   "outputs": [
    {
     "name": "stdout",
     "output_type": "stream",
     "text": [
      "  \n",
      "  \n",
      "  \n",
      " aa \n"
     ]
    }
   ],
   "source": [
    "print(\"  \")\n",
    "print(\"  \")\n",
    "print(\"  \")\n",
    "print(\" aa \")"
   ]
  },
  {
   "cell_type": "code",
   "execution_count": null,
   "id": "ad47b8dc-e565-48d1-b9bf-679873905859",
   "metadata": {},
   "outputs": [],
   "source": [
    "def pgn(model, x, y, loss_fn,epsilon=epsilon, alpha=alpha, num_iter=10, decay=1.0,zeta=1.5,delta=0.5,N=5):#原文N为20 yuan zeta = 3\n",
    "    x_adv = x\n",
    "    # initialze momentum tensor\n",
    "    momentum = torch.zeros_like(x).detach().cuda()\n",
    "    # write a loop of num_iter to represent the iterative times\n",
    "    for i in range(num_iter):\n",
    "        x_adv = x_adv.detach().clone()\n",
    "        avg_grad = torch.zeros_like(x).detach().cuda()\n",
    "        for _ in range(N):\n",
    "            x_near = x_adv + torch.rand_like(x).uniform_(-epsilon*zeta, epsilon*zeta)\n",
    "            x_near = Variable(x_near, requires_grad = True)\n",
    "            \n",
    "            out = model(x_near)  \n",
    "            _, preds = torch.max(out.data, 1)\n",
    "            yp = Variable(preds.cuda())\n",
    "            loss = loss_fn(out, yp)                \n",
    "            loss.backward() \n",
    "            g1 = x_near.grad.detach() \n",
    "            x_star = x_near.detach() + alpha * (-g1)/torch.abs(g1).mean([1, 2, 3], keepdim=True)\n",
    "\n",
    "            nes_x = x_star.detach()\n",
    "            nes_x = Variable(nes_x, requires_grad = True)\n",
    "            \n",
    "            out = model(nes_x)  \n",
    "            _, preds = torch.max(out.data, 1)\n",
    "            yp = Variable(preds.cuda())\n",
    "            loss = loss_fn(out, yp)                \n",
    "            loss.backward() \n",
    "            g2 = nes_x.grad.detach() \n",
    "\n",
    "            avg_grad += (1-delta)*g1 + delta*g2\n",
    "        grad = (avg_grad) / torch.abs(avg_grad).mean([1, 2, 3], keepdim=True)\n",
    "        grad = decay * momentum + grad\n",
    "        momentum = grad\n",
    "        \n",
    "        x_adv = x_adv + alpha * torch.sign(grad)\n",
    "        delta = torch.clamp(x_adv - x, min=-epsilon, max=epsilon)\n",
    "        x_adv = torch.clamp(x + delta, min=0, max=1).detach()\n",
    "        #x_adv = torch.max(torch.min(x_adv, x+epsilon), x-epsilon) # clip new x_adv back to [x-epsilon, x+epsilon]\n",
    "    return x_adv"
   ]
  },
  {
   "cell_type": "code",
   "execution_count": 3,
   "id": "6182e823-12a2-4b90-940a-12fcc9e78d5b",
   "metadata": {},
   "outputs": [],
   "source": [
    "a = None"
   ]
  },
  {
   "cell_type": "code",
   "execution_count": 4,
   "id": "f480f8ec-e378-4bb0-b4ef-b1e092b7fcfb",
   "metadata": {},
   "outputs": [
    {
     "ename": "NameError",
     "evalue": "name 'x' is not defined",
     "output_type": "error",
     "traceback": [
      "\u001b[0;31m---------------------------------------------------------------------------\u001b[0m",
      "\u001b[0;31mNameError\u001b[0m                                 Traceback (most recent call last)",
      "\u001b[0;32m/tmp/ipykernel_2028/1156717350.py\u001b[0m in \u001b[0;36m<module>\u001b[0;34m\u001b[0m\n\u001b[0;32m----> 1\u001b[0;31m \u001b[0mx\u001b[0m\u001b[0;34m.\u001b[0m\u001b[0ma\u001b[0m\u001b[0;34m\u001b[0m\u001b[0;34m\u001b[0m\u001b[0m\n\u001b[0m",
      "\u001b[0;31mNameError\u001b[0m: name 'x' is not defined"
     ]
    }
   ],
   "source": [
    "x.a"
   ]
  },
  {
   "cell_type": "code",
   "execution_count": 1,
   "id": "e02e3686-d6cf-44bd-aa18-265404ebab41",
   "metadata": {},
   "outputs": [
    {
     "name": "stdout",
     "output_type": "stream",
     "text": [
      "123 a\n",
      "123 bb\n",
      "123 ccc\n"
     ]
    }
   ],
   "source": [
    "for i in [\"a\",\"bb\",\"ccc\"]:\n",
    "    print(\"123\",i)"
   ]
  },
  {
   "cell_type": "code",
   "execution_count": 15,
   "id": "062c7100-5f06-4cdd-b855-f62080f2d0d8",
   "metadata": {},
   "outputs": [
    {
     "name": "stdout",
     "output_type": "stream",
     "text": [
      "tensor([[1, 0, 0, 0],\n",
      "        [0, 2, 0, 0],\n",
      "        [0, 0, 3, 0],\n",
      "        [0, 0, 0, 4]])\n"
     ]
    }
   ],
   "source": [
    "import torch\n",
    "\n",
    "# 假设vt是一个一维张量\n",
    "vt = torch.tensor([1, 2, 3, 4])\n",
    "\n",
    "# 创建对角矩阵\n",
    "V_t = torch.diag(vt)\n",
    "print(V_t)"
   ]
  },
  {
   "cell_type": "code",
   "execution_count": 17,
   "id": "69c48441-1a49-4bfc-8745-883166093ef4",
   "metadata": {},
   "outputs": [
    {
     "data": {
      "text/plain": [
       "tensor([[1., 0., 0., 0.],\n",
       "        [0., 1., 0., 0.],\n",
       "        [0., 0., 1., 0.],\n",
       "        [0., 0., 0., 1.]])"
      ]
     },
     "execution_count": 17,
     "metadata": {},
     "output_type": "execute_result"
    }
   ],
   "source": [
    "torch.eye(V_t.size(0))"
   ]
  },
  {
   "cell_type": "code",
   "execution_count": 9,
   "id": "f870b39c-35b4-4495-b037-83cb52ce2810",
   "metadata": {},
   "outputs": [
    {
     "ename": "AttributeError",
     "evalue": "module 'torch' has no attribute 'eyes_like'",
     "output_type": "error",
     "traceback": [
      "\u001b[0;31m---------------------------------------------------------------------------\u001b[0m",
      "\u001b[0;31mAttributeError\u001b[0m                            Traceback (most recent call last)",
      "\u001b[0;32m/tmp/ipykernel_903/934150242.py\u001b[0m in \u001b[0;36m<module>\u001b[0;34m\u001b[0m\n\u001b[0;32m----> 1\u001b[0;31m \u001b[0mtorch\u001b[0m\u001b[0;34m.\u001b[0m\u001b[0meyes_like\u001b[0m\u001b[0;34m(\u001b[0m\u001b[0mV_t\u001b[0m\u001b[0;34m)\u001b[0m\u001b[0;34m\u001b[0m\u001b[0;34m\u001b[0m\u001b[0m\n\u001b[0m",
      "\u001b[0;31mAttributeError\u001b[0m: module 'torch' has no attribute 'eyes_like'"
     ]
    }
   ],
   "source": [
    "torch.eyes_like(V_t)"
   ]
  },
  {
   "cell_type": "code",
   "execution_count": null,
   "id": "a6ca30a7-8061-41eb-948f-81dc2356d714",
   "metadata": {},
   "outputs": [],
   "source": []
  },
  {
   "cell_type": "code",
   "execution_count": 4,
   "id": "e7cc1148-5b71-4d02-b73e-39b01856fe81",
   "metadata": {},
   "outputs": [
    {
     "name": "stdout",
     "output_type": "stream",
     "text": [
      "0\n",
      "1\n"
     ]
    }
   ],
   "source": [
    "for i in range(2):\n",
    "    print(i)"
   ]
  },
  {
   "cell_type": "code",
   "execution_count": null,
   "id": "50218d54-5bc3-4980-8e9d-edaa464a5668",
   "metadata": {},
   "outputs": [],
   "source": []
  },
  {
   "cell_type": "code",
   "execution_count": null,
   "id": "ef4b974f-8f21-4c0d-af1e-902901053c90",
   "metadata": {},
   "outputs": [],
   "source": [
    "def AdaMSI_FGM(model, x, y, loss_fn, epsilon=epsilon, alpha=alpha, num_iter=10, decay=1.0,lum = 0.6,adam_eps=1e-16):\n",
    "    x_adv = x\n",
    "    momentum = torch.zeros_like(x).detach().cuda()\n",
    "    v = torch.zeros_like(x).detach().cuda()\n",
    "    mm = 0\n",
    "    for i in range(num_iter):\n",
    "        t = i+1\n",
    "        x_adv = x_adv.detach().clone()\n",
    "        x_adv.requires_grad = True \n",
    "        loss = loss_fn(model(x_adv), y)\n",
    "        loss.backward() \n",
    "        grad = x_adv.grad.detach() \n",
    "        \n",
    "        beta2 = 1 - (lum/t)\n",
    "        v = beta2*v + (1-beta2)*(grad**2)\n",
    "        V1 = torch.diag(v)\n",
    "        \n",
    "        V2 = V1**(1/2) + adam_eps/(t**(1/2))#缺少一个单位矩阵\n",
    "        \n",
    "        s_t = lum**(t/2)* torch.mean(torch.abs(grad), dim=(1,2,3), keepdim=True)\n",
    "        \n",
    "        if t == 1:\n",
    "            beta1 = 1\n",
    "        else:\n",
    "            beta1 = s_t_pre/(s_t + 1)\n",
    "            \n",
    "        s_t_pre = s_t\n",
    "        \n",
    "        \n",
    "        \n",
    "        \n",
    "        grad = decay * momentum +  grad / torch.mean(torch.abs(grad), dim=(1,2,3), keepdim=True)      \n",
    "        momentum = grad\n",
    "     \n",
    "            \n",
    "        x_adv = x_adv + (alpha/V2) * grad.sign() + beta1*mm\n",
    "        mm = (alpha/V2) * grad.sign() + beta1*mm\n",
    "        \n",
    "        delta = torch.clamp(x_adv - x, min=-epsilon, max=epsilon)\n",
    "        x_adv = torch.clamp(x + delta, min=0, max=1).detach()\n",
    "    return x_adv"
   ]
  },
  {
   "cell_type": "code",
   "execution_count": null,
   "id": "b9ed11fd-fb9d-42a4-8e17-168b79f2d796",
   "metadata": {},
   "outputs": [],
   "source": []
  },
  {
   "cell_type": "code",
   "execution_count": null,
   "id": "c75a57c6-6e9d-4608-9b7a-080d39fd0d93",
   "metadata": {},
   "outputs": [],
   "source": []
  },
  {
   "cell_type": "code",
   "execution_count": null,
   "id": "a0940baa-26d9-4582-8d58-fb54121d015a",
   "metadata": {},
   "outputs": [],
   "source": []
  },
  {
   "cell_type": "code",
   "execution_count": 12,
   "id": "22d1db28-bb44-4f62-9a18-5efb52c3d25c",
   "metadata": {},
   "outputs": [
    {
     "name": "stdout",
     "output_type": "stream",
     "text": [
      "tensor([[ 2.,  2.,  3.],\n",
      "        [ 4.,  6.,  6.],\n",
      "        [ 7.,  8., 10.]])\n"
     ]
    }
   ],
   "source": [
    "import torch\n",
    "\n",
    "# 创建一个示例张量，假设是3x3的\n",
    "A = torch.tensor([[1, 2, 3],\n",
    "                  [4, 5, 6],\n",
    "                  [7, 8, 9]])\n",
    "\n",
    "# 将对角线上的元素加1\n",
    "A = A + torch.eye(A.size(0))\n",
    "\n",
    "print(A)"
   ]
  },
  {
   "cell_type": "code",
   "execution_count": 13,
   "id": "f5a196ac-0277-4a1f-a116-1ef299d67967",
   "metadata": {},
   "outputs": [
    {
     "data": {
      "text/plain": [
       "3"
      ]
     },
     "execution_count": 13,
     "metadata": {},
     "output_type": "execute_result"
    }
   ],
   "source": [
    "A.size(0)"
   ]
  },
  {
   "cell_type": "code",
   "execution_count": 14,
   "id": "24c1ac0a-981b-44f7-9b5f-09587c659913",
   "metadata": {},
   "outputs": [
    {
     "data": {
      "text/plain": [
       "tensor([[1., 0., 0.],\n",
       "        [0., 1., 0.],\n",
       "        [0., 0., 1.]])"
      ]
     },
     "execution_count": 14,
     "metadata": {},
     "output_type": "execute_result"
    }
   ],
   "source": [
    "torch.eye(A.size(0))"
   ]
  },
  {
   "cell_type": "code",
   "execution_count": 20,
   "id": "24456c33-f39a-4e74-b18a-997000603f37",
   "metadata": {},
   "outputs": [
    {
     "name": "stdout",
     "output_type": "stream",
     "text": [
      "tensor([1, 2, 3])\n"
     ]
    }
   ],
   "source": [
    "import torch\n",
    "\n",
    "# 创建一个输入张量\n",
    "x1 = torch.tensor([[1, 0, 0],\n",
    "                  [0, 2, 0],\n",
    "                  [0, 0, 3]])\n",
    "\n",
    "# 使用 torch.diag 提取对角线元素\n",
    "diag_elements = torch.diag(x1)\n",
    "\n",
    "print(diag_elements)  # 输出: tensor([1, 2, 3])"
   ]
  },
  {
   "cell_type": "code",
   "execution_count": 21,
   "id": "a6c78056-b7b7-40cb-b888-0ae35e9da414",
   "metadata": {},
   "outputs": [
    {
     "name": "stdout",
     "output_type": "stream",
     "text": [
      "tensor([[[1, 0, 0],\n",
      "         [0, 0, 0],\n",
      "         [0, 0, 0]],\n",
      "\n",
      "        [[0, 0, 0],\n",
      "         [0, 2, 0],\n",
      "         [0, 0, 0]],\n",
      "\n",
      "        [[0, 0, 0],\n",
      "         [0, 0, 0],\n",
      "         [0, 0, 3]]])\n"
     ]
    }
   ],
   "source": [
    "import torch\n",
    "\n",
    "# 创建一个输入张量\n",
    "x = torch.tensor([1, 2, 3])\n",
    "\n",
    "# 使用 torch.diag_embed 创建对角矩阵\n",
    "diag_matrix = torch.diag_embed(x1)\n",
    "\n",
    "print(diag_matrix)"
   ]
  },
  {
   "cell_type": "markdown",
   "id": "8d8b775f-35c5-4ea3-9205-92dc45aed510",
   "metadata": {},
   "source": [
    "Adagrad（Adaptive Gradient Algorithm）的数学公式如下：\n",
    "\n",
    "假设我们有一个参数向量 \\(\\mathbf{\\theta} = [\\theta_1, \\theta_2, \\ldots, \\theta_d]\\)，在时间步 \\(t\\)，参数的更新规则如下：\n",
    "\n",
    "\\[\n",
    "\\begin{aligned}\n",
    "G_{t,ii} & = G_{t-1,ii} + g_{t,i}^2  \\quad \\text{(累积梯度平方和)} \\\\\n",
    "\\theta_{t+1,i} & = \\theta_{t,i} - \\frac{\\eta}{\\sqrt{G_{t,ii} + \\epsilon}} \\cdot g_{t,i} \\quad \\text{(参数更新)}\n",
    "\\end{aligned}\n",
    "\\]\n",
    "\n",
    "其中：\n",
    "- \\(g_{t,i}\\) 是第 \\(i\\) 个参数在时间步 \\(t\\) 的梯度\n",
    "- \\(\\eta\\) 是学习率\n",
    "- \\(G_{t,ii}\\) 是对角元素 \\(i\\) 上的累积梯度平方和\n",
    "- \\(\\epsilon\\) 是为了数值稳定性而添加的小常数\n",
    "\n",
    "在这里，累积梯度平方和 \\(G_{t,ii}\\) 是根据参数在每个时间步的梯度的平方累积得到的。当参数的梯度较大时，\\(G_{t,ii}\\)会相应地增加，从而使得学习率减小；当梯度较小时，学习率则相对增大。\n",
    "\n",
    "Adagrad使得每个参数都拥有自适应的学习率，因此可以有效地处理不同参数的变化范围和数据特性。\n",
    "\n",
    "希望这个详细的数学公式能够帮助您更好地理解Adagrad算法。"
   ]
  },
  {
   "cell_type": "code",
   "execution_count": 2,
   "id": "a6a95e32-2919-471e-8a07-a5d16a70938f",
   "metadata": {},
   "outputs": [
    {
     "ename": "TypeError",
     "evalue": "fill_diagonal_(): argument 'fill_value' (position 1) must be Number, not Tensor",
     "output_type": "error",
     "traceback": [
      "\u001b[0;31m---------------------------------------------------------------------------\u001b[0m",
      "\u001b[0;31mTypeError\u001b[0m                                 Traceback (most recent call last)",
      "\u001b[0;32m/tmp/ipykernel_807/2105697803.py\u001b[0m in \u001b[0;36m<module>\u001b[0;34m\u001b[0m\n\u001b[1;32m      9\u001b[0m \u001b[0mdiagonal\u001b[0m \u001b[0;34m=\u001b[0m \u001b[0mx\u001b[0m\u001b[0;34m.\u001b[0m\u001b[0mdiag\u001b[0m\u001b[0;34m(\u001b[0m\u001b[0;34m)\u001b[0m\u001b[0;34m\u001b[0m\u001b[0;34m\u001b[0m\u001b[0m\n\u001b[1;32m     10\u001b[0m \u001b[0mresult\u001b[0m \u001b[0;34m=\u001b[0m \u001b[0mtorch\u001b[0m\u001b[0;34m.\u001b[0m\u001b[0mzeros_like\u001b[0m\u001b[0;34m(\u001b[0m\u001b[0mx\u001b[0m\u001b[0;34m)\u001b[0m\u001b[0;34m\u001b[0m\u001b[0;34m\u001b[0m\u001b[0m\n\u001b[0;32m---> 11\u001b[0;31m \u001b[0mresult\u001b[0m\u001b[0;34m.\u001b[0m\u001b[0mfill_diagonal_\u001b[0m\u001b[0;34m(\u001b[0m\u001b[0mdiagonal\u001b[0m\u001b[0;34m)\u001b[0m\u001b[0;34m\u001b[0m\u001b[0;34m\u001b[0m\u001b[0m\n\u001b[0m\u001b[1;32m     12\u001b[0m \u001b[0;34m\u001b[0m\u001b[0m\n\u001b[1;32m     13\u001b[0m \u001b[0mprint\u001b[0m\u001b[0;34m(\u001b[0m\u001b[0mresult\u001b[0m\u001b[0;34m)\u001b[0m  \u001b[0;31m# 输出: tensor([[1, 0, 0],\u001b[0m\u001b[0;34m\u001b[0m\u001b[0;34m\u001b[0m\u001b[0m\n",
      "\u001b[0;31mTypeError\u001b[0m: fill_diagonal_(): argument 'fill_value' (position 1) must be Number, not Tensor"
     ]
    }
   ],
   "source": [
    "import torch\n",
    "\n",
    "# 创建一个输入张量\n",
    "x = torch.tensor([[1, 0, 0],\n",
    "                  [0, 5, 0],\n",
    "                  [0, 8, 0]])\n",
    "\n",
    "# 只获取对角线上的元素并保持形状不变\n",
    "diagonal = x.diag()\n",
    "result = torch.zeros_like(x)\n",
    "result.fill_diagonal_(diagonal)\n",
    "\n",
    "print(result)  # 输出: tensor([[1, 0, 0],\n",
    "              #         [0, 5, 0],\n",
    "              #         [0, 0, 0]])"
   ]
  },
  {
   "cell_type": "code",
   "execution_count": 5,
   "id": "25ca0bf7-e195-4ddd-b0dd-4d5220d2c107",
   "metadata": {},
   "outputs": [
    {
     "name": "stdout",
     "output_type": "stream",
     "text": [
      "tensor([[1, 0, 0],\n",
      "        [0, 1, 0],\n",
      "        [0, 0, 1]])\n"
     ]
    }
   ],
   "source": [
    "\n",
    "import torch\n",
    "\n",
    "# 创建一个输入张量\n",
    "x = torch.tensor([[1, 0, 0],\n",
    "                  [0, 5, 0],\n",
    "                  [0, 8, 0]])\n",
    "\n",
    "# 获取对角线上的元素并保持形状不变\n",
    "diagonal = x.diag()\n",
    "result = torch.zeros_like(x)\n",
    "result.fill_diagonal_(diagonal[0])\n",
    "\n",
    "print(result)  # 输出: tensor([[1, 0, 0],\n",
    "              #         [0, 5, 0],\n",
    "              #         [0, 0, 0]])\n"
   ]
  },
  {
   "cell_type": "code",
   "execution_count": 7,
   "id": "9411689c-203c-4655-a737-38e308a0e930",
   "metadata": {},
   "outputs": [
    {
     "name": "stdout",
     "output_type": "stream",
     "text": [
      "tensor([[1, 0, 0],\n",
      "        [0, 5, 0],\n",
      "        [0, 0, 3]])\n"
     ]
    }
   ],
   "source": [
    "import torch\n",
    "\n",
    "x = torch.tensor([[1, 0, 0],\n",
    "                  [0, 5, 2],\n",
    "                  [0, 8, 3]])\n",
    "\n",
    "result = torch.diag(x.diag())\n",
    "print(result)"
   ]
  },
  {
   "cell_type": "code",
   "execution_count": null,
   "id": "c8841c24-af45-4932-b654-fc5dad341503",
   "metadata": {},
   "outputs": [],
   "source": []
  }
 ],
 "metadata": {
  "kernelspec": {
   "display_name": "Python 3 (ipykernel)",
   "language": "python",
   "name": "python3"
  },
  "language_info": {
   "codemirror_mode": {
    "name": "ipython",
    "version": 3
   },
   "file_extension": ".py",
   "mimetype": "text/x-python",
   "name": "python",
   "nbconvert_exporter": "python",
   "pygments_lexer": "ipython3",
   "version": "3.8.10"
  }
 },
 "nbformat": 4,
 "nbformat_minor": 5
}
